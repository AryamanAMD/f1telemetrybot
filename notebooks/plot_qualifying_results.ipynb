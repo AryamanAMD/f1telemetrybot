{
  "cells": [
    {
      "cell_type": "markdown",
      "metadata": {},
      "source": [
        "# Qualifying results overview\n",
        "\n",
        "Plot the qualifying result with visualization the fastest times.\n"
      ]
    },
    {
      "cell_type": "code",
      "execution_count": 1,
      "metadata": {
        "collapsed": false
      },
      "outputs": [
        {
          "name": "stderr",
          "output_type": "stream",
          "text": [
            "logger      WARNING \tFailed to load schedule from FastF1 backend!\n",
            "req            INFO \tUsing cached data for season_schedule\n",
            "core           INFO \tLoading data for Spanish Grand Prix - Qualifying [v3.1.3]\n",
            "req            INFO \tUsing cached data for session_info\n",
            "req            INFO \tUsing cached data for driver_info\n",
            "req            INFO \tUsing cached data for session_status_data\n",
            "req            INFO \tUsing cached data for track_status_data\n",
            "req            INFO \tUsing cached data for _extended_timing_data\n",
            "req            INFO \tUsing cached data for timing_app_data\n",
            "core           INFO \tProcessing timing data...\n",
            "req            INFO \tUsing cached data for car_data\n",
            "req            INFO \tUsing cached data for position_data\n",
            "req            INFO \tUsing cached data for weather_data\n",
            "req            INFO \tUsing cached data for race_control_messages\n",
            "core           INFO \tFinished loading data for 20 drivers: ['44', '33', '77', '16', '31', '55', '3', '11', '4', '14', '18', '10', '5', '99', '63', '22', '7', '47', '6', '9']\n"
          ]
        }
      ],
      "source": [
        "import matplotlib.pyplot as plt\n",
        "import pandas as pd\n",
        "from timple.timedelta import strftimedelta\n",
        "\n",
        "import fastf1\n",
        "import fastf1.plotting\n",
        "from fastf1.core import Laps\n",
        "fastf1.Cache.enable_cache('cache')\n",
        "\n",
        "# we only want support for timedelta plotting in this example\n",
        "fastf1.plotting.setup_mpl(mpl_timedelta_support=True, color_scheme=None, misc_mpl_mods=False)\n",
        "\n",
        "session = fastf1.get_session(2021, 'Spanish Grand Prix', 'Q')\n",
        "session.load()"
      ]
    },
    {
      "cell_type": "markdown",
      "metadata": {},
      "source": [
        "First, we need to get an array of all drivers.\n",
        "\n"
      ]
    },
    {
      "cell_type": "code",
      "execution_count": 2,
      "metadata": {
        "collapsed": false
      },
      "outputs": [
        {
          "name": "stdout",
          "output_type": "stream",
          "text": [
            "['HAM' 'VER' 'BOT' 'LEC' 'OCO' 'SAI' 'RIC' 'PER' 'NOR' 'ALO' 'STR' 'GAS'\n",
            " 'VET' 'GIO' 'RUS' 'TSU' 'RAI' 'MSC' 'LAT' 'MAZ']\n"
          ]
        }
      ],
      "source": [
        "drivers = pd.unique(session.laps['Driver'])\n",
        "print(drivers)"
      ]
    },
    {
      "cell_type": "markdown",
      "metadata": {},
      "source": [
        "After that we'll get each drivers fastest lap, create a new laps object\n",
        "from these laps, sort them by lap time and have pandas reindex them to\n",
        "number them nicely by starting position.\n",
        "\n"
      ]
    },
    {
      "cell_type": "code",
      "execution_count": 3,
      "metadata": {
        "collapsed": false
      },
      "outputs": [],
      "source": [
        "list_fastest_laps = list()\n",
        "for drv in drivers:\n",
        "    drvs_fastest_lap = session.laps.pick_driver(drv).pick_fastest()\n",
        "    list_fastest_laps.append(drvs_fastest_lap)\n",
        "fastest_laps = Laps(list_fastest_laps).sort_values(by='LapTime').reset_index(drop=True)"
      ]
    },
    {
      "cell_type": "markdown",
      "metadata": {},
      "source": [
        "The plot is nicer to look at and more easily understandable if we just plot\n",
        "the time differences. Therefore we subtract the fastest lap time from all\n",
        "other lap times.\n",
        "\n"
      ]
    },
    {
      "cell_type": "code",
      "execution_count": 4,
      "metadata": {
        "collapsed": false
      },
      "outputs": [],
      "source": [
        "pole_lap = fastest_laps.pick_fastest()\n",
        "fastest_laps['LapTimeDelta'] = fastest_laps['LapTime'] - pole_lap['LapTime']"
      ]
    },
    {
      "cell_type": "markdown",
      "metadata": {},
      "source": [
        "We can take a quick look at the laps we have to check if everything\n",
        "looks all right. For this, we'll just check the 'Driver', 'LapTime'\n",
        "and 'LapTimeDelta' columns.\n",
        "\n"
      ]
    },
    {
      "cell_type": "code",
      "execution_count": 5,
      "metadata": {
        "collapsed": false
      },
      "outputs": [
        {
          "name": "stdout",
          "output_type": "stream",
          "text": [
            "   Driver                LapTime           LapTimeDelta\n",
            "0     HAM 0 days 00:01:16.741000        0 days 00:00:00\n",
            "1     VER 0 days 00:01:16.777000 0 days 00:00:00.036000\n",
            "2     BOT 0 days 00:01:16.873000 0 days 00:00:00.132000\n",
            "3     LEC 0 days 00:01:17.510000 0 days 00:00:00.769000\n",
            "4     OCO 0 days 00:01:17.580000 0 days 00:00:00.839000\n",
            "5     SAI 0 days 00:01:17.620000 0 days 00:00:00.879000\n",
            "6     RIC 0 days 00:01:17.622000 0 days 00:00:00.881000\n",
            "7     PER 0 days 00:01:17.669000 0 days 00:00:00.928000\n",
            "8     NOR 0 days 00:01:17.696000 0 days 00:00:00.955000\n",
            "9     ALO 0 days 00:01:17.966000 0 days 00:00:01.225000\n",
            "10    STR 0 days 00:01:17.974000 0 days 00:00:01.233000\n",
            "11    GAS 0 days 00:01:17.982000 0 days 00:00:01.241000\n",
            "12    VET 0 days 00:01:18.079000 0 days 00:00:01.338000\n",
            "13    GIO 0 days 00:01:18.356000 0 days 00:00:01.615000\n",
            "14    RUS 0 days 00:01:18.445000 0 days 00:00:01.704000\n",
            "15    TSU 0 days 00:01:18.556000 0 days 00:00:01.815000\n",
            "16    RAI 0 days 00:01:18.917000 0 days 00:00:02.176000\n",
            "17    MSC 0 days 00:01:19.117000 0 days 00:00:02.376000\n",
            "18    LAT 0 days 00:01:19.219000 0 days 00:00:02.478000\n",
            "19    MAZ 0 days 00:01:19.807000 0 days 00:00:03.066000\n"
          ]
        }
      ],
      "source": [
        "print(fastest_laps[['Driver', 'LapTime', 'LapTimeDelta']])"
      ]
    },
    {
      "cell_type": "markdown",
      "metadata": {},
      "source": [
        "Finally, we'll create a list of team colors per lap to color our plot.\n",
        "\n"
      ]
    },
    {
      "cell_type": "code",
      "execution_count": 6,
      "metadata": {
        "collapsed": false
      },
      "outputs": [],
      "source": [
        "team_colors = list()\n",
        "for index, lap in fastest_laps.iterlaps():\n",
        "    color = fastf1.plotting.team_color(lap['Team'])\n",
        "    team_colors.append(color)"
      ]
    },
    {
      "cell_type": "markdown",
      "metadata": {},
      "source": [
        "Now, we can plot all the data\n",
        "\n"
      ]
    },
    {
      "cell_type": "code",
      "execution_count": 7,
      "metadata": {
        "collapsed": false
      },
      "outputs": [
        {
          "data": {
            "image/png": "[encoded data removed]",
            "text/plain": [
              "<Figure size 640x480 with 1 Axes>"
            ]
          },
          "metadata": {},
          "output_type": "display_data"
        }
      ],
      "source": [
        "fig, ax = plt.subplots()\n",
        "ax.barh(fastest_laps.index, fastest_laps['LapTimeDelta'],\n",
        "        color=team_colors, edgecolor='grey')\n",
        "ax.set_yticks(fastest_laps.index)\n",
        "ax.set_yticklabels(fastest_laps['Driver'])\n",
        "\n",
        "# show fastest at the top\n",
        "ax.invert_yaxis()\n",
        "\n",
        "# draw vertical lines behind the bars\n",
        "ax.set_axisbelow(True)\n",
        "ax.xaxis.grid(True, which='major', linestyle='--', color='black', zorder=-1000)"
      ]
    },
    {
      "cell_type": "markdown",
      "metadata": {},
      "source": [
        "Finally, give the plot a meaningful title\n",
        "\n"
      ]
    },
    {
      "cell_type": "code",
      "execution_count": 8,
      "metadata": {
        "collapsed": false
      },
      "outputs": [
        {
          "data": {
            "text/plain": [
              "<Figure size 640x480 with 0 Axes>"
            ]
          },
          "metadata": {},
          "output_type": "display_data"
        }
      ],
      "source": [
        "lap_time_string = strftimedelta(pole_lap['LapTime'], '%m:%s.%ms')\n",
        "\n",
        "plt.suptitle(f\"{session.event['EventName']} {session.event.year} Qualifying\\n\"\n",
        "             f\"Fastest Lap: {lap_time_string} ({pole_lap['Driver']})\")\n",
        "\n",
        "plt.show()"
      ]
    }
  ],
  "metadata": {
    "kernelspec": {
      "display_name": "Python 3",
      "language": "python",
      "name": "python3"
    },
    "language_info": {
      "codemirror_mode": {
        "name": "ipython",
        "version": 3
      },
      "file_extension": ".py",
      "mimetype": "text/x-python",
      "name": "python",
      "nbconvert_exporter": "python",
      "pygments_lexer": "ipython3",
      "version": "3.12.0"
    }
  },
  "nbformat": 4,
  "nbformat_minor": 0
}
