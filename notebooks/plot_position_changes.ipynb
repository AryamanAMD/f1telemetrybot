{
  "cells": [
    {
      "cell_type": "markdown",
      "metadata": {},
      "source": [
        "\n",
        "# Position changes during a race\n",
        "\n",
        "Plot the position of each driver at the end of each lap.\n"
      ]
    },
    {
      "cell_type": "code",
      "execution_count": 31,
      "metadata": {
        "collapsed": false
      },
      "outputs": [],
      "source": [
        "import fastf1.plotting\n",
        "import matplotlib.pyplot as plt\n",
        "\n",
        "fastf1.Cache.enable_cache('cache')\n",
        "fastf1.plotting.setup_mpl(misc_mpl_mods=False)"
      ]
    },
    {
      "cell_type": "markdown",
      "metadata": {},
      "source": [
        "Load the session and create the plot\n",
        "\n"
      ]
    },
    {
      "cell_type": "code",
      "execution_count": 32,
      "metadata": {
        "collapsed": false
      },
      "outputs": [
        {
          "name": "stderr",
          "output_type": "stream",
          "text": [
            "logger      WARNING \tFailed to load schedule from FastF1 backend!\n",
            "req            INFO \tUsing cached data for season_schedule\n",
            "logger      WARNING \tFailed to load schedule from F1 API backend!\n",
            "core           INFO \tLoading data for Bahrain Grand Prix - Race [v3.1.3]\n",
            "req            INFO \tUsing cached data for session_info\n",
            "req            INFO \tUsing cached data for driver_info\n",
            "req            INFO \tUsing cached data for session_status_data\n",
            "req            INFO \tUsing cached data for lap_count\n",
            "req            INFO \tUsing cached data for track_status_data\n",
            "req            INFO \tUsing cached data for _extended_timing_data\n",
            "req            INFO \tUsing cached data for timing_app_data\n",
            "core           INFO \tProcessing timing data...\n",
            "req            INFO \tUsing cached data for race_control_messages\n",
            "core           INFO \tFinished loading data for 20 drivers: ['1', '11', '14', '55', '44', '18', '63', '77', '10', '23', '22', '2', '20', '21', '27', '24', '4', '31', '16', '81']\n"
          ]
        },
        {
          "data": {
            "image/png": "[encoded data removed]",
            "text/plain": [
              "<Figure size 1000x1000 with 1 Axes>"
            ]
          },
          "metadata": {},
          "output_type": "display_data"
        }
      ],
      "source": [
        "session = fastf1.get_session(2023, 'Bahrain', 'R')\n",
        "session.load(telemetry=False, weather=False)\n",
        "\n",
        "fig, ax = plt.subplots(figsize=(10, 10))"
      ]
    },
    {
      "cell_type": "markdown",
      "metadata": {},
      "source": [
        "For each driver, get their three letter abbreviation (e.g. 'HAM') by simply\n",
        "using the value of the first lap, get their color and then plot their\n",
        "position over the number of laps.\n",
        "\n"
      ]
    },
    {
      "cell_type": "code",
      "execution_count": 33,
      "metadata": {
        "collapsed": false
      },
      "outputs": [],
      "source": [
        "for drv in session.drivers:\n",
        "    drv_laps = session.laps.pick_driver(drv)\n",
        "\n",
        "    abb = drv_laps['Driver'].iloc[0]\n",
        "    color = fastf1.plotting.driver_color(abb)\n",
        "\n",
        "    ax.plot(drv_laps['LapNumber'], drv_laps['Position'],\n",
        "            label=abb, color=color)"
      ]
    },
    {
      "cell_type": "markdown",
      "metadata": {},
      "source": [
        "Finalize the plot by setting y-limits that invert the y-axis so that position\n",
        "one is at the top, set custom tick positions and axis labels.\n",
        "\n"
      ]
    },
    {
      "cell_type": "code",
      "execution_count": 34,
      "metadata": {
        "collapsed": false
      },
      "outputs": [
        {
          "data": {
            "text/plain": [
              "Text(4.444444444444452, 0.5, 'Position')"
            ]
          },
          "execution_count": 34,
          "metadata": {},
          "output_type": "execute_result"
        }
      ],
      "source": [
        "ax.set_ylim([20.5, 0.5])\n",
        "ax.set_yticks([1, 5, 10, 15, 20])\n",
        "ax.set_xlabel('Lap')\n",
        "ax.set_ylabel('Position')"
      ]
    },
    {
      "cell_type": "markdown",
      "metadata": {},
      "source": [
        "Because this plot is very crowed, add the legend outside the plot area.\n",
        "\n"
      ]
    },
    {
      "cell_type": "code",
      "execution_count": 35,
      "metadata": {
        "collapsed": false
      },
      "outputs": [
        {
          "data": {
            "text/plain": [
              "<Figure size 640x480 with 0 Axes>"
            ]
          },
          "metadata": {},
          "output_type": "display_data"
        }
      ],
      "source": [
        "ax.legend(bbox_to_anchor=(1.0, 1.02))\n",
        "plt.tight_layout()\n",
        "\n",
        "plt.show()"
      ]
    }
  ],
  "metadata": {
    "kernelspec": {
      "display_name": "Python 3",
      "language": "python",
      "name": "python3"
    },
    "language_info": {
      "codemirror_mode": {
        "name": "ipython",
        "version": 3
      },
      "file_extension": ".py",
      "mimetype": "text/x-python",
      "name": "python",
      "nbconvert_exporter": "python",
      "pygments_lexer": "ipython3",
      "version": "3.12.0"
    }
  },
  "nbformat": 4,
  "nbformat_minor": 0
}
