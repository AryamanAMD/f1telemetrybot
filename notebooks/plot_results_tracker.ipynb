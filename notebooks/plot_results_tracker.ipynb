{
  "cells": [
    {
      "cell_type": "markdown",
      "metadata": {},
      "source": [
        "# Plot driver standings in a heatmap\n",
        "\n",
        "Plot the points for each driven in each race of a given season in a heatmap, as\n",
        "https://public.tableau.com/app/profile/mateusz.karmalski/viz/F1ResultsTracker2022\n"
      ]
    },
    {
      "cell_type": "code",
      "execution_count": 1,
      "metadata": {
        "collapsed": false
      },
      "outputs": [],
      "source": [
        "import pandas as pd\n",
        "import plotly.express as px\n",
        "from plotly.io import show\n",
        "import fastf1\n",
        "from fastf1.ergast import Ergast\n",
        "fastf1.Cache.enable_cache('cache')"
      ]
    },
    {
      "cell_type": "markdown",
      "metadata": {},
      "source": [
        "First, we load the results for season 2022.\n",
        "\n"
      ]
    },
    {
      "cell_type": "code",
      "execution_count": 2,
      "metadata": {
        "collapsed": false
      },
      "outputs": [],
      "source": [
        "ergast = Ergast()\n",
        "races = ergast.get_race_schedule(2022)  # Races in year 2022\n",
        "results = []\n",
        "\n",
        "# For each race in the season\n",
        "for rnd, race in races['raceName'].items():\n",
        "\n",
        "    # Get results. Note that we use the round no. + 1, because the round no.\n",
        "    # starts from one (1) instead of zero (0)\n",
        "    temp = ergast.get_race_results(season=2022, round=rnd + 1)\n",
        "    temp = temp.content[0]\n",
        "\n",
        "    # If there is a sprint, get the results as well\n",
        "    sprint = ergast.get_sprint_results(season=2022, round=rnd + 1)\n",
        "    if sprint.content and sprint.description['round'][0] == rnd + 1:\n",
        "        temp = pd.merge(temp, sprint.content[0], on='driverCode', how='left')\n",
        "        # Add sprint points and race points to get the total\n",
        "        temp['points'] = temp['points_x'] + temp['points_y']\n",
        "        temp.drop(columns=['points_x', 'points_y'], inplace=True)\n",
        "\n",
        "    # Add round no. and grand prix name\n",
        "    temp['round'] = rnd + 1\n",
        "    temp['race'] = race.removesuffix(' Grand Prix')\n",
        "    temp = temp[['round', 'race', 'driverCode', 'points']]  # Keep useful cols.\n",
        "    results.append(temp)\n",
        "\n",
        "# Append all races into a single dataframe\n",
        "results = pd.concat(results)\n",
        "races = results['race'].drop_duplicates()"
      ]
    },
    {
      "cell_type": "markdown",
      "metadata": {},
      "source": [
        "Then we “reshape” the results to a wide table, where each row represents a\n",
        "driver and each column refers to a race, and the cell value is the points.\n",
        "\n"
      ]
    },
    {
      "cell_type": "code",
      "execution_count": 3,
      "metadata": {
        "collapsed": false
      },
      "outputs": [],
      "source": [
        "results = results.pivot(index='driverCode', columns='round', values='points')\n",
        "# Here we have a 22-by-22 matrix (22 races and 22 drivers, incl. DEV and HUL)\n",
        "\n",
        "# Rank the drivers by their total points\n",
        "results['total_points'] = results.sum(axis=1)\n",
        "results = results.sort_values(by='total_points', ascending=False)\n",
        "results.drop(columns='total_points', inplace=True)\n",
        "\n",
        "# Use race name, instead of round no., as column names\n",
        "results.columns = races"
      ]
    },
    {
      "cell_type": "markdown",
      "metadata": {},
      "source": [
        "The final step is to plot a heatmap using plotly\n",
        "\n"
      ]
    },
    {
      "cell_type": "code",
      "execution_count": 4,
      "metadata": {
        "collapsed": false
      },
      "outputs": [
        {
          "data": {
            "application/vnd.plotly.v1+json": {
              "config": {
                "plotlyServerURL": "https://plot.ly"
              },
              "data": [
                {
                  "coloraxis": "coloraxis",
                  "hovertemplate": "Race: %{x}<br>Driver: %{y}<br>Points: %{z}<extra></extra>",
                  "name": "0",
                  "texttemplate": "%{z}",
                  "type": "heatmap",
                  "x": [
                    "Bahrain",
                    "Saudi Arabian",
                    "Australian",
                    "Emilia Romagna",
                    "Miami",
                    "Spanish",
                    "Monaco",
                    "Azerbaijan",
                    "Canadian",
                    "British",
                    "Austrian",
                    "French",
                    "Hungarian",
                    "Belgian",
                    "Dutch",
                    "Italian",
                    "Singapore",
                    "Japanese",
                    "United States",
                    "Mexico City",
                    "São Paulo",
                    "Abu Dhabi"
                  ],
                  "xaxis": "x",
                  "y": [
                    "VER",
                    "LEC",
                    "PER",
                    "RUS",
                    "SAI",
                    "HAM",
                    "NOR",
                    "OCO",
                    "ALO",
                    "BOT",
                    "VET",
                    "RIC",
                    "MAG",
                    "GAS",
                    "STR",
                    "TSU",
                    "MSC",
                    "ZHO",
                    "ALB",
                    "LAT",
                    "DEV",
                    "HUL"
                  ],
                  "yaxis": "y",
                  "z": [
                    [
                      0,
                      25,
                      0,
                      34,
                      26,
                      25,
                      15,
                      25,
                      25,
                      6,
                      27,
                      25,
                      25,
                      26,
                      26,
                      25,
                      6,
                      25,
                      25,
                      25,
                      13,
                      25
                    ],
                    [
                      26,
                      19,
                      26,
                      15,
                      18,
                      0,
                      12,
                      0,
                      10,
                      12,
                      32,
                      0,
                      8,
                      8,
                      15,
                      18,
                      18,
                      15,
                      15,
                      8,
                      15,
                      18
                    ],
                    [
                      0,
                      12,
                      18,
                      24,
                      12,
                      19,
                      25,
                      19,
                      0,
                      18,
                      4,
                      12,
                      10,
                      18,
                      10,
                      9,
                      25,
                      18,
                      12,
                      15,
                      10,
                      15
                    ],
                    [
                      12,
                      10,
                      15,
                      12,
                      10,
                      15,
                      10,
                      15,
                      12,
                      0,
                      17,
                      15,
                      15,
                      12,
                      18,
                      15,
                      0,
                      4,
                      11,
                      13,
                      34,
                      10
                    ],
                    [
                      18,
                      15,
                      0,
                      5,
                      15,
                      12,
                      18,
                      0,
                      19,
                      25,
                      6,
                      11,
                      12,
                      15,
                      4,
                      12,
                      15,
                      0,
                      0,
                      10,
                      22,
                      12
                    ],
                    [
                      15,
                      1,
                      12,
                      0,
                      8,
                      10,
                      4,
                      12,
                      15,
                      16,
                      16,
                      18,
                      19,
                      0,
                      12,
                      10,
                      2,
                      10,
                      18,
                      18,
                      24,
                      0
                    ],
                    [
                      0,
                      6,
                      10,
                      19,
                      0,
                      4,
                      9,
                      2,
                      0,
                      8,
                      6,
                      6,
                      6,
                      0,
                      6,
                      6,
                      12,
                      1,
                      8,
                      2,
                      2,
                      9
                    ],
                    [
                      6,
                      8,
                      6,
                      0,
                      4,
                      6,
                      0,
                      1,
                      8,
                      0,
                      13,
                      4,
                      2,
                      6,
                      2,
                      0,
                      0,
                      12,
                      0,
                      4,
                      4,
                      6
                    ],
                    [
                      2,
                      0,
                      0,
                      0,
                      0,
                      2,
                      6,
                      6,
                      2,
                      10,
                      1,
                      8,
                      4,
                      10,
                      8,
                      0,
                      0,
                      6,
                      6,
                      0,
                      10,
                      0
                    ],
                    [
                      8,
                      0,
                      4,
                      12,
                      6,
                      8,
                      2,
                      0,
                      6,
                      0,
                      0,
                      0,
                      0,
                      0,
                      0,
                      0,
                      0,
                      0,
                      0,
                      1,
                      2,
                      0
                    ],
                    [
                      null,
                      null,
                      0,
                      4,
                      0,
                      0,
                      1,
                      8,
                      0,
                      2,
                      0,
                      0,
                      1,
                      4,
                      0,
                      0,
                      4,
                      8,
                      4,
                      0,
                      0,
                      1
                    ],
                    [
                      0,
                      0,
                      8,
                      3,
                      0,
                      0,
                      0,
                      4,
                      0,
                      0,
                      2,
                      2,
                      0,
                      0,
                      0,
                      0,
                      10,
                      0,
                      0,
                      6,
                      0,
                      2
                    ],
                    [
                      10,
                      2,
                      0,
                      3,
                      0,
                      0,
                      0,
                      0,
                      0,
                      1,
                      6,
                      0,
                      0,
                      0,
                      0,
                      0,
                      0,
                      0,
                      2,
                      0,
                      1,
                      0
                    ],
                    [
                      0,
                      4,
                      2,
                      0,
                      0,
                      0,
                      0,
                      10,
                      0,
                      0,
                      0,
                      0,
                      0,
                      2,
                      0,
                      4,
                      1,
                      0,
                      0,
                      0,
                      0,
                      0
                    ],
                    [
                      0,
                      0,
                      0,
                      1,
                      1,
                      0,
                      0,
                      0,
                      1,
                      0,
                      0,
                      1,
                      0,
                      0,
                      1,
                      0,
                      8,
                      0,
                      0,
                      0,
                      1,
                      4
                    ],
                    [
                      4,
                      0,
                      0,
                      6,
                      0,
                      1,
                      0,
                      0,
                      0,
                      0,
                      0,
                      0,
                      0,
                      0,
                      0,
                      0,
                      0,
                      0,
                      1,
                      0,
                      0,
                      0
                    ],
                    [
                      0,
                      0,
                      0,
                      0,
                      0,
                      0,
                      0,
                      0,
                      0,
                      4,
                      8,
                      0,
                      0,
                      0,
                      0,
                      0,
                      0,
                      0,
                      0,
                      0,
                      0,
                      0
                    ],
                    [
                      1,
                      0,
                      0,
                      0,
                      0,
                      0,
                      0,
                      0,
                      4,
                      0,
                      0,
                      0,
                      0,
                      0,
                      0,
                      1,
                      0,
                      0,
                      0,
                      0,
                      0,
                      0
                    ],
                    [
                      0,
                      0,
                      1,
                      0,
                      2,
                      0,
                      0,
                      0,
                      0,
                      0,
                      0,
                      0,
                      0,
                      1,
                      0,
                      null,
                      0,
                      0,
                      0,
                      0,
                      0,
                      0
                    ],
                    [
                      0,
                      0,
                      0,
                      0,
                      0,
                      0,
                      0,
                      0,
                      0,
                      0,
                      0,
                      0,
                      0,
                      0,
                      0,
                      0,
                      0,
                      2,
                      0,
                      0,
                      0,
                      0
                    ],
                    [
                      null,
                      null,
                      null,
                      null,
                      null,
                      null,
                      null,
                      null,
                      null,
                      null,
                      null,
                      null,
                      null,
                      null,
                      null,
                      2,
                      null,
                      null,
                      null,
                      null,
                      null,
                      null
                    ],
                    [
                      0,
                      0,
                      null,
                      null,
                      null,
                      null,
                      null,
                      null,
                      null,
                      null,
                      null,
                      null,
                      null,
                      null,
                      null,
                      null,
                      null,
                      null,
                      null,
                      null,
                      null,
                      null
                    ]
                  ]
                }
              ],
              "layout": {
                "coloraxis": {
                  "colorbar": {
                    "title": {
                      "text": "Points"
                    }
                  },
                  "colorscale": [
                    [
                      0,
                      "rgb(198, 219, 239)"
                    ],
                    [
                      0.25,
                      "rgb(107, 174, 214)"
                    ],
                    [
                      0.5,
                      "rgb(33,  113, 181)"
                    ],
                    [
                      0.75,
                      "rgb(8,   81,  156)"
                    ],
                    [
                      1,
                      "rgb(8,   48,  107)"
                    ]
                  ],
                  "showscale": false
                },
                "margin": {
                  "b": 0,
                  "l": 0,
                  "r": 0,
                  "t": 0
                },
                "plot_bgcolor": "rgba(0,0,0,0)",
                "template": {
                  "data": {
                    "bar": [
                      {
                        "error_x": {
                          "color": "#2a3f5f"
                        },
                        "error_y": {
                          "color": "#2a3f5f"
                        },
                        "marker": {
                          "line": {
                            "color": "#E5ECF6",
                            "width": 0.5
                          },
                          "pattern": {
                            "fillmode": "overlay",
                            "size": 10,
                            "solidity": 0.2
                          }
                        },
                        "type": "bar"
                      }
                    ],
                    "barpolar": [
                      {
                        "marker": {
                          "line": {
                            "color": "#E5ECF6",
                            "width": 0.5
                          },
                          "pattern": {
                            "fillmode": "overlay",
                            "size": 10,
                            "solidity": 0.2
                          }
                        },
                        "type": "barpolar"
                      }
                    ],
                    "carpet": [
                      {
                        "aaxis": {
                          "endlinecolor": "#2a3f5f",
                          "gridcolor": "white",
                          "linecolor": "white",
                          "minorgridcolor": "white",
                          "startlinecolor": "#2a3f5f"
                        },
                        "baxis": {
                          "endlinecolor": "#2a3f5f",
                          "gridcolor": "white",
                          "linecolor": "white",
                          "minorgridcolor": "white",
                          "startlinecolor": "#2a3f5f"
                        },
                        "type": "carpet"
                      }
                    ],
                    "choropleth": [
                      {
                        "colorbar": {
                          "outlinewidth": 0,
                          "ticks": ""
                        },
                        "type": "choropleth"
                      }
                    ],
                    "contour": [
                      {
                        "colorbar": {
                          "outlinewidth": 0,
                          "ticks": ""
                        },
                        "colorscale": [
                          [
                            0,
                            "#0d0887"
                          ],
                          [
                            0.1111111111111111,
                            "#46039f"
                          ],
                          [
                            0.2222222222222222,
                            "#7201a8"
                          ],
                          [
                            0.3333333333333333,
                            "#9c179e"
                          ],
                          [
                            0.4444444444444444,
                            "#bd3786"
                          ],
                          [
                            0.5555555555555556,
                            "#d8576b"
                          ],
                          [
                            0.6666666666666666,
                            "#ed7953"
                          ],
                          [
                            0.7777777777777778,
                            "#fb9f3a"
                          ],
                          [
                            0.8888888888888888,
                            "#fdca26"
                          ],
                          [
                            1,
                            "#f0f921"
                          ]
                        ],
                        "type": "contour"
                      }
                    ],
                    "contourcarpet": [
                      {
                        "colorbar": {
                          "outlinewidth": 0,
                          "ticks": ""
                        },
                        "type": "contourcarpet"
                      }
                    ],
                    "heatmap": [
                      {
                        "colorbar": {
                          "outlinewidth": 0,
                          "ticks": ""
                        },
                        "colorscale": [
                          [
                            0,
                            "#0d0887"
                          ],
                          [
                            0.1111111111111111,
                            "#46039f"
                          ],
                          [
                            0.2222222222222222,
                            "#7201a8"
                          ],
                          [
                            0.3333333333333333,
                            "#9c179e"
                          ],
                          [
                            0.4444444444444444,
                            "#bd3786"
                          ],
                          [
                            0.5555555555555556,
                            "#d8576b"
                          ],
                          [
                            0.6666666666666666,
                            "#ed7953"
                          ],
                          [
                            0.7777777777777778,
                            "#fb9f3a"
                          ],
                          [
                            0.8888888888888888,
                            "#fdca26"
                          ],
                          [
                            1,
                            "#f0f921"
                          ]
                        ],
                        "type": "heatmap"
                      }
                    ],
                    "heatmapgl": [
                      {
                        "colorbar": {
                          "outlinewidth": 0,
                          "ticks": ""
                        },
                        "colorscale": [
                          [
                            0,
                            "#0d0887"
                          ],
                          [
                            0.1111111111111111,
                            "#46039f"
                          ],
                          [
                            0.2222222222222222,
                            "#7201a8"
                          ],
                          [
                            0.3333333333333333,
                            "#9c179e"
                          ],
                          [
                            0.4444444444444444,
                            "#bd3786"
                          ],
                          [
                            0.5555555555555556,
                            "#d8576b"
                          ],
                          [
                            0.6666666666666666,
                            "#ed7953"
                          ],
                          [
                            0.7777777777777778,
                            "#fb9f3a"
                          ],
                          [
                            0.8888888888888888,
                            "#fdca26"
                          ],
                          [
                            1,
                            "#f0f921"
                          ]
                        ],
                        "type": "heatmapgl"
                      }
                    ],
                    "histogram": [
                      {
                        "marker": {
                          "pattern": {
                            "fillmode": "overlay",
                            "size": 10,
                            "solidity": 0.2
                          }
                        },
                        "type": "histogram"
                      }
                    ],
                    "histogram2d": [
                      {
                        "colorbar": {
                          "outlinewidth": 0,
                          "ticks": ""
                        },
                        "colorscale": [
                          [
                            0,
                            "#0d0887"
                          ],
                          [
                            0.1111111111111111,
                            "#46039f"
                          ],
                          [
                            0.2222222222222222,
                            "#7201a8"
                          ],
                          [
                            0.3333333333333333,
                            "#9c179e"
                          ],
                          [
                            0.4444444444444444,
                            "#bd3786"
                          ],
                          [
                            0.5555555555555556,
                            "#d8576b"
                          ],
                          [
                            0.6666666666666666,
                            "#ed7953"
                          ],
                          [
                            0.7777777777777778,
                            "#fb9f3a"
                          ],
                          [
                            0.8888888888888888,
                            "#fdca26"
                          ],
                          [
                            1,
                            "#f0f921"
                          ]
                        ],
                        "type": "histogram2d"
                      }
                    ],
                    "histogram2dcontour": [
                      {
                        "colorbar": {
                          "outlinewidth": 0,
                          "ticks": ""
                        },
                        "colorscale": [
                          [
                            0,
                            "#0d0887"
                          ],
                          [
                            0.1111111111111111,
                            "#46039f"
                          ],
                          [
                            0.2222222222222222,
                            "#7201a8"
                          ],
                          [
                            0.3333333333333333,
                            "#9c179e"
                          ],
                          [
                            0.4444444444444444,
                            "#bd3786"
                          ],
                          [
                            0.5555555555555556,
                            "#d8576b"
                          ],
                          [
                            0.6666666666666666,
                            "#ed7953"
                          ],
                          [
                            0.7777777777777778,
                            "#fb9f3a"
                          ],
                          [
                            0.8888888888888888,
                            "#fdca26"
                          ],
                          [
                            1,
                            "#f0f921"
                          ]
                        ],
                        "type": "histogram2dcontour"
                      }
                    ],
                    "mesh3d": [
                      {
                        "colorbar": {
                          "outlinewidth": 0,
                          "ticks": ""
                        },
                        "type": "mesh3d"
                      }
                    ],
                    "parcoords": [
                      {
                        "line": {
                          "colorbar": {
                            "outlinewidth": 0,
                            "ticks": ""
                          }
                        },
                        "type": "parcoords"
                      }
                    ],
                    "pie": [
                      {
                        "automargin": true,
                        "type": "pie"
                      }
                    ],
                    "scatter": [
                      {
                        "fillpattern": {
                          "fillmode": "overlay",
                          "size": 10,
                          "solidity": 0.2
                        },
                        "type": "scatter"
                      }
                    ],
                    "scatter3d": [
                      {
                        "line": {
                          "colorbar": {
                            "outlinewidth": 0,
                            "ticks": ""
                          }
                        },
                        "marker": {
                          "colorbar": {
                            "outlinewidth": 0,
                            "ticks": ""
                          }
                        },
                        "type": "scatter3d"
                      }
                    ],
                    "scattercarpet": [
                      {
                        "marker": {
                          "colorbar": {
                            "outlinewidth": 0,
                            "ticks": ""
                          }
                        },
                        "type": "scattercarpet"
                      }
                    ],
                    "scattergeo": [
                      {
                        "marker": {
                          "colorbar": {
                            "outlinewidth": 0,
                            "ticks": ""
                          }
                        },
                        "type": "scattergeo"
                      }
                    ],
                    "scattergl": [
                      {
                        "marker": {
                          "colorbar": {
                            "outlinewidth": 0,
                            "ticks": ""
                          }
                        },
                        "type": "scattergl"
                      }
                    ],
                    "scattermapbox": [
                      {
                        "marker": {
                          "colorbar": {
                            "outlinewidth": 0,
                            "ticks": ""
                          }
                        },
                        "type": "scattermapbox"
                      }
                    ],
                    "scatterpolar": [
                      {
                        "marker": {
                          "colorbar": {
                            "outlinewidth": 0,
                            "ticks": ""
                          }
                        },
                        "type": "scatterpolar"
                      }
                    ],
                    "scatterpolargl": [
                      {
                        "marker": {
                          "colorbar": {
                            "outlinewidth": 0,
                            "ticks": ""
                          }
                        },
                        "type": "scatterpolargl"
                      }
                    ],
                    "scatterternary": [
                      {
                        "marker": {
                          "colorbar": {
                            "outlinewidth": 0,
                            "ticks": ""
                          }
                        },
                        "type": "scatterternary"
                      }
                    ],
                    "surface": [
                      {
                        "colorbar": {
                          "outlinewidth": 0,
                          "ticks": ""
                        },
                        "colorscale": [
                          [
                            0,
                            "#0d0887"
                          ],
                          [
                            0.1111111111111111,
                            "#46039f"
                          ],
                          [
                            0.2222222222222222,
                            "#7201a8"
                          ],
                          [
                            0.3333333333333333,
                            "#9c179e"
                          ],
                          [
                            0.4444444444444444,
                            "#bd3786"
                          ],
                          [
                            0.5555555555555556,
                            "#d8576b"
                          ],
                          [
                            0.6666666666666666,
                            "#ed7953"
                          ],
                          [
                            0.7777777777777778,
                            "#fb9f3a"
                          ],
                          [
                            0.8888888888888888,
                            "#fdca26"
                          ],
                          [
                            1,
                            "#f0f921"
                          ]
                        ],
                        "type": "surface"
                      }
                    ],
                    "table": [
                      {
                        "cells": {
                          "fill": {
                            "color": "#EBF0F8"
                          },
                          "line": {
                            "color": "white"
                          }
                        },
                        "header": {
                          "fill": {
                            "color": "#C8D4E3"
                          },
                          "line": {
                            "color": "white"
                          }
                        },
                        "type": "table"
                      }
                    ]
                  },
                  "layout": {
                    "annotationdefaults": {
                      "arrowcolor": "#2a3f5f",
                      "arrowhead": 0,
                      "arrowwidth": 1
                    },
                    "autotypenumbers": "strict",
                    "coloraxis": {
                      "colorbar": {
                        "outlinewidth": 0,
                        "ticks": ""
                      }
                    },
                    "colorscale": {
                      "diverging": [
                        [
                          0,
                          "#8e0152"
                        ],
                        [
                          0.1,
                          "#c51b7d"
                        ],
                        [
                          0.2,
                          "#de77ae"
                        ],
                        [
                          0.3,
                          "#f1b6da"
                        ],
                        [
                          0.4,
                          "#fde0ef"
                        ],
                        [
                          0.5,
                          "#f7f7f7"
                        ],
                        [
                          0.6,
                          "#e6f5d0"
                        ],
                        [
                          0.7,
                          "#b8e186"
                        ],
                        [
                          0.8,
                          "#7fbc41"
                        ],
                        [
                          0.9,
                          "#4d9221"
                        ],
                        [
                          1,
                          "#276419"
                        ]
                      ],
                      "sequential": [
                        [
                          0,
                          "#0d0887"
                        ],
                        [
                          0.1111111111111111,
                          "#46039f"
                        ],
                        [
                          0.2222222222222222,
                          "#7201a8"
                        ],
                        [
                          0.3333333333333333,
                          "#9c179e"
                        ],
                        [
                          0.4444444444444444,
                          "#bd3786"
                        ],
                        [
                          0.5555555555555556,
                          "#d8576b"
                        ],
                        [
                          0.6666666666666666,
                          "#ed7953"
                        ],
                        [
                          0.7777777777777778,
                          "#fb9f3a"
                        ],
                        [
                          0.8888888888888888,
                          "#fdca26"
                        ],
                        [
                          1,
                          "#f0f921"
                        ]
                      ],
                      "sequentialminus": [
                        [
                          0,
                          "#0d0887"
                        ],
                        [
                          0.1111111111111111,
                          "#46039f"
                        ],
                        [
                          0.2222222222222222,
                          "#7201a8"
                        ],
                        [
                          0.3333333333333333,
                          "#9c179e"
                        ],
                        [
                          0.4444444444444444,
                          "#bd3786"
                        ],
                        [
                          0.5555555555555556,
                          "#d8576b"
                        ],
                        [
                          0.6666666666666666,
                          "#ed7953"
                        ],
                        [
                          0.7777777777777778,
                          "#fb9f3a"
                        ],
                        [
                          0.8888888888888888,
                          "#fdca26"
                        ],
                        [
                          1,
                          "#f0f921"
                        ]
                      ]
                    },
                    "colorway": [
                      "#636efa",
                      "#EF553B",
                      "#00cc96",
                      "#ab63fa",
                      "#FFA15A",
                      "#19d3f3",
                      "#FF6692",
                      "#B6E880",
                      "#FF97FF",
                      "#FECB52"
                    ],
                    "font": {
                      "color": "#2a3f5f"
                    },
                    "geo": {
                      "bgcolor": "white",
                      "lakecolor": "white",
                      "landcolor": "#E5ECF6",
                      "showlakes": true,
                      "showland": true,
                      "subunitcolor": "white"
                    },
                    "hoverlabel": {
                      "align": "left"
                    },
                    "hovermode": "closest",
                    "mapbox": {
                      "style": "light"
                    },
                    "paper_bgcolor": "white",
                    "plot_bgcolor": "#E5ECF6",
                    "polar": {
                      "angularaxis": {
                        "gridcolor": "white",
                        "linecolor": "white",
                        "ticks": ""
                      },
                      "bgcolor": "#E5ECF6",
                      "radialaxis": {
                        "gridcolor": "white",
                        "linecolor": "white",
                        "ticks": ""
                      }
                    },
                    "scene": {
                      "xaxis": {
                        "backgroundcolor": "#E5ECF6",
                        "gridcolor": "white",
                        "gridwidth": 2,
                        "linecolor": "white",
                        "showbackground": true,
                        "ticks": "",
                        "zerolinecolor": "white"
                      },
                      "yaxis": {
                        "backgroundcolor": "#E5ECF6",
                        "gridcolor": "white",
                        "gridwidth": 2,
                        "linecolor": "white",
                        "showbackground": true,
                        "ticks": "",
                        "zerolinecolor": "white"
                      },
                      "zaxis": {
                        "backgroundcolor": "#E5ECF6",
                        "gridcolor": "white",
                        "gridwidth": 2,
                        "linecolor": "white",
                        "showbackground": true,
                        "ticks": "",
                        "zerolinecolor": "white"
                      }
                    },
                    "shapedefaults": {
                      "line": {
                        "color": "#2a3f5f"
                      }
                    },
                    "ternary": {
                      "aaxis": {
                        "gridcolor": "white",
                        "linecolor": "white",
                        "ticks": ""
                      },
                      "baxis": {
                        "gridcolor": "white",
                        "linecolor": "white",
                        "ticks": ""
                      },
                      "bgcolor": "#E5ECF6",
                      "caxis": {
                        "gridcolor": "white",
                        "linecolor": "white",
                        "ticks": ""
                      }
                    },
                    "title": {
                      "x": 0.05
                    },
                    "xaxis": {
                      "automargin": true,
                      "gridcolor": "white",
                      "linecolor": "white",
                      "ticks": "",
                      "title": {
                        "standoff": 15
                      },
                      "zerolinecolor": "white",
                      "zerolinewidth": 2
                    },
                    "yaxis": {
                      "automargin": true,
                      "gridcolor": "white",
                      "linecolor": "white",
                      "ticks": "",
                      "title": {
                        "standoff": 15
                      },
                      "zerolinecolor": "white",
                      "zerolinewidth": 2
                    }
                  }
                },
                "xaxis": {
                  "anchor": "y",
                  "domain": [
                    0,
                    1
                  ],
                  "showgrid": false,
                  "showline": false,
                  "side": "top",
                  "title": {
                    "text": ""
                  }
                },
                "yaxis": {
                  "anchor": "x",
                  "autorange": "reversed",
                  "domain": [
                    0,
                    1
                  ],
                  "gridcolor": "LightGrey",
                  "gridwidth": 1,
                  "showgrid": true,
                  "showline": false,
                  "tickmode": "linear",
                  "tickson": "boundaries",
                  "title": {
                    "text": ""
                  }
                }
              }
            }
          },
          "metadata": {},
          "output_type": "display_data"
        }
      ],
      "source": [
        "fig = px.imshow(\n",
        "    results,\n",
        "    text_auto=True,\n",
        "    aspect='auto',  # Automatically adjust the aspect ratio\n",
        "    color_continuous_scale=[[0,    'rgb(198, 219, 239)'],  # Blue scale\n",
        "                            [0.25, 'rgb(107, 174, 214)'],\n",
        "                            [0.5,  'rgb(33,  113, 181)'],\n",
        "                            [0.75, 'rgb(8,   81,  156)'],\n",
        "                            [1,    'rgb(8,   48,  107)']],\n",
        "    labels={'x': 'Race',\n",
        "            'y': 'Driver',\n",
        "            'color': 'Points'}       # Change hover texts\n",
        ")\n",
        "fig.update_xaxes(title_text='')      # Remove axis titles\n",
        "fig.update_yaxes(title_text='')\n",
        "fig.update_yaxes(tickmode='linear')  # Show all ticks, i.e. driver names\n",
        "fig.update_yaxes(showgrid=True, gridwidth=1, gridcolor='LightGrey',\n",
        "                 showline=False,\n",
        "                 tickson='boundaries')              # Show horizontal grid only\n",
        "fig.update_xaxes(showgrid=False, showline=False)    # And remove vertical grid\n",
        "fig.update_layout(plot_bgcolor='rgba(0,0,0,0)')     # White background\n",
        "fig.update_layout(coloraxis_showscale=False)        # Remove legend\n",
        "fig.update_layout(xaxis=dict(side='top'))           # x-axis on top\n",
        "fig.update_layout(margin=dict(l=0, r=0, b=0, t=0))  # Remove border margins\n",
        "fig\n",
        "show(fig)"
      ]
    }
  ],
  "metadata": {
    "kernelspec": {
      "display_name": "Python 3",
      "language": "python",
      "name": "python3"
    },
    "language_info": {
      "codemirror_mode": {
        "name": "ipython",
        "version": 3
      },
      "file_extension": ".py",
      "mimetype": "text/x-python",
      "name": "python",
      "nbconvert_exporter": "python",
      "pygments_lexer": "ipython3",
      "version": "3.12.0"
    }
  },
  "nbformat": 4,
  "nbformat_minor": 0
}
