{
  "cells": [
    {
      "cell_type": "markdown",
      "metadata": {},
      "source": [
        "# Driver Laptimes Scatterplot\n",
        "\n",
        "Plot a driver's lap times in a race, with color coding for the compounds.\n"
      ]
    },
    {
      "cell_type": "code",
      "execution_count": null,
      "metadata": {
        "collapsed": false
      },
      "outputs": [],
      "source": [
        "import fastf1\n",
        "import fastf1.plotting\n",
        "import seaborn as sns\n",
        "from matplotlib import pyplot as plt\n",
        "fastf1.Cache.enable_cache('cache')\n",
        "# The misc_mpl_mods option enables minor grid lines which clutter the plot\n",
        "fastf1.plotting.setup_mpl(misc_mpl_mods=False)"
      ]
    },
    {
      "cell_type": "markdown",
      "metadata": {},
      "source": [
        "Load the race session.\n",
        "\n"
      ]
    },
    {
      "cell_type": "code",
      "execution_count": null,
      "metadata": {
        "collapsed": false
      },
      "outputs": [],
      "source": [
        "race = fastf1.get_session(2023, \"Azerbaijan\", 'R')\n",
        "race.load()"
      ]
    },
    {
      "cell_type": "markdown",
      "metadata": {},
      "source": [
        "Get all the laps for a single driver.\n",
        "Filter out slow laps as they distort the graph axis.\n",
        "\n"
      ]
    },
    {
      "cell_type": "code",
      "execution_count": null,
      "metadata": {
        "collapsed": false
      },
      "outputs": [],
      "source": [
        "driver_laps = race.laps.pick_driver(\"ALO\").pick_quicklaps().reset_index()"
      ]
    },
    {
      "cell_type": "markdown",
      "metadata": {},
      "source": [
        "Make the scattterplot using lap number as x-axis and lap time as y-axis.\n",
        "Marker colors correspond to the compounds used.\n",
        "Note: as LapTime is represented by timedelta, calling setup_mpl earlier\n",
        "is required.\n",
        "\n"
      ]
    },
    {
      "cell_type": "code",
      "execution_count": null,
      "metadata": {
        "collapsed": false
      },
      "outputs": [],
      "source": [
        "fig, ax = plt.subplots(figsize=(8, 8))\n",
        "\n",
        "sns.scatterplot(data=driver_laps,\n",
        "                x=\"LapNumber\",\n",
        "                y=\"LapTime\",\n",
        "                ax=ax,\n",
        "                hue=\"Compound\",\n",
        "                palette=fastf1.plotting.COMPOUND_COLORS,\n",
        "                s=80,\n",
        "                linewidth=0,\n",
        "                legend='auto')"
      ]
    },
    {
      "cell_type": "markdown",
      "metadata": {},
      "source": [
        "Make the plot more aesthetic.\n",
        "\n"
      ]
    },
    {
      "cell_type": "code",
      "execution_count": null,
      "metadata": {
        "collapsed": false
      },
      "outputs": [],
      "source": [
        "ax.set_xlabel(\"Lap Number\")\n",
        "ax.set_ylabel(\"Lap Time\")\n",
        "\n",
        "# The y-axis increases from bottom to top by default\n",
        "# Since we are plotting time, it makes sense to invert the axis\n",
        "ax.invert_yaxis()\n",
        "plt.suptitle(\"Alonso Laptimes in the 2023 Azerbaijan Grand Prix\")\n",
        "\n",
        "# Turn on major grid lines\n",
        "plt.grid(color='w', which='major', axis='both')\n",
        "sns.despine(left=True, bottom=True)\n",
        "\n",
        "plt.tight_layout()\n",
        "plt.show()"
      ]
    }
  ],
  "metadata": {
    "kernelspec": {
      "display_name": "Python 3",
      "language": "python",
      "name": "python3"
    },
    "language_info": {
      "codemirror_mode": {
        "name": "ipython",
        "version": 3
      },
      "file_extension": ".py",
      "mimetype": "text/x-python",
      "name": "python",
      "nbconvert_exporter": "python",
      "pygments_lexer": "ipython3",
      "version": "3.9.18"
    }
  },
  "nbformat": 4,
  "nbformat_minor": 0
}
