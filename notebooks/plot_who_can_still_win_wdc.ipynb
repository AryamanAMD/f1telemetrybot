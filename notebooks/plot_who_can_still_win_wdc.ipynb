{
  "cells": [
    {
      "cell_type": "markdown",
      "metadata": {},
      "source": [
        "# Who can still win the drivers WDC?\n",
        "\n",
        "Calculates which drivers still has chance to win the WDC.\n",
        "Simplified since it doesn't compare positions if points are equal.\n",
        "\n",
        "This example implements 3 functions that it then uses to calculate\n",
        "its result.\n"
      ]
    },
    {
      "cell_type": "code",
      "execution_count": 1,
      "metadata": {
        "collapsed": false
      },
      "outputs": [],
      "source": [
        "import fastf1\n",
        "from fastf1.ergast import Ergast\n",
        "fastf1.Cache.enable_cache('cache')"
      ]
    },
    {
      "cell_type": "markdown",
      "metadata": {},
      "source": [
        "Get the current driver standings from Ergast.\n",
        "Reference https://theoehrly.github.io/Fast-F1-Pre-Release-Documentation/ergast.html#fastf1.ergast.Ergast.get_driver_standings\n",
        "\n"
      ]
    },
    {
      "cell_type": "code",
      "execution_count": 2,
      "metadata": {
        "collapsed": false
      },
      "outputs": [],
      "source": [
        "def get_drivers_standings():\n",
        "    ergast = Ergast()\n",
        "    standings = ergast.get_driver_standings(season=2023)\n",
        "    return standings.content[0]"
      ]
    },
    {
      "cell_type": "markdown",
      "metadata": {},
      "source": [
        "We need a function to calculates the maximum amount of points possible if a\n",
        "driver wins everything left of the season.\n",
        "https://en.wikipedia.org/wiki/List_of_Formula_One_World_Championship_points_scoring_systems\n",
        "\n"
      ]
    },
    {
      "cell_type": "code",
      "execution_count": 3,
      "metadata": {
        "collapsed": false
      },
      "outputs": [],
      "source": [
        "def calculate_max_points_for_remaining_season():\n",
        "    POINTS_FOR_SPRINT = 8 + 25 + 1  # Winning the sprint, race and fastest lap\n",
        "    POINTS_FOR_CONVENTIONAL = 25 + 1  # Winning the race and fastest lap\n",
        "\n",
        "    events = fastf1.events.get_events_remaining(backend=\"ergast\")\n",
        "    # Count how many sprints and conventional races are left\n",
        "    sprint_events = len(events.loc[events[\"EventFormat\"] == \"sprint_shootout\"])\n",
        "    conventional_events = len(events.loc[events[\"EventFormat\"] == \"conventional\"])\n",
        "\n",
        "    # Calculate points for each\n",
        "    sprint_points = sprint_events * POINTS_FOR_SPRINT\n",
        "    conventional_points = conventional_events * POINTS_FOR_CONVENTIONAL\n",
        "\n",
        "    return sprint_points + conventional_points"
      ]
    },
    {
      "cell_type": "markdown",
      "metadata": {},
      "source": [
        "For each driver we will see if there is a chance to get more points than\n",
        "the current leader. We assume the leader gets no more points and the\n",
        "driver gets the theoretical maximum amount of points.\n",
        "\n",
        "We currently don't consider the case of two drivers getting equal points\n",
        "since its more complicated and would require comparing positions.\n",
        "\n"
      ]
    },
    {
      "cell_type": "code",
      "execution_count": 4,
      "metadata": {
        "collapsed": false
      },
      "outputs": [],
      "source": [
        "def calculate_who_can_win(driver_standings, max_points):\n",
        "    LEADER_POINTS = int(driver_standings.loc[0]['points'])\n",
        "\n",
        "    for i, _ in enumerate(driver_standings.iterrows()):\n",
        "        driver = driver_standings.loc[i]\n",
        "        driver_max_points = int(driver[\"points\"]) + max_points\n",
        "        can_win = 'No' if driver_max_points < LEADER_POINTS else 'Yes'\n",
        "\n",
        "        print(f\"{driver['position']}: {driver['givenName'] + ' ' + driver['familyName']}, \"\n",
        "              f\"Current points: {driver['points']}, \"\n",
        "              f\"Theoretical max points: {driver_max_points}, \"\n",
        "              f\"Can win: {can_win}\")"
      ]
    },
    {
      "cell_type": "markdown",
      "metadata": {},
      "source": [
        "Now using the 3 functions above we can use them to calculate who\n",
        "can still win.\n",
        "\n"
      ]
    },
    {
      "cell_type": "code",
      "execution_count": 5,
      "metadata": {
        "collapsed": false
      },
      "outputs": [
        {
          "name": "stdout",
          "output_type": "stream",
          "text": [
            "1: Max Verstappen, Current points: 433.0, Theoretical max points: 579, Can win: Yes\n",
            "2: Sergio Pérez, Current points: 224.0, Theoretical max points: 370, Can win: No\n",
            "3: Lewis Hamilton, Current points: 194.0, Theoretical max points: 340, Can win: No\n",
            "4: Fernando Alonso, Current points: 183.0, Theoretical max points: 329, Can win: No\n",
            "5: Carlos Sainz, Current points: 153.0, Theoretical max points: 299, Can win: No\n",
            "6: Charles Leclerc, Current points: 145.0, Theoretical max points: 291, Can win: No\n",
            "7: Lando Norris, Current points: 136.0, Theoretical max points: 282, Can win: No\n",
            "8: George Russell, Current points: 132.0, Theoretical max points: 278, Can win: No\n",
            "9: Oscar Piastri, Current points: 83.0, Theoretical max points: 229, Can win: No\n",
            "10: Lance Stroll, Current points: 47.0, Theoretical max points: 193, Can win: No\n",
            "11: Pierre Gasly, Current points: 46.0, Theoretical max points: 192, Can win: No\n",
            "12: Esteban Ocon, Current points: 44.0, Theoretical max points: 190, Can win: No\n",
            "13: Alexander Albon, Current points: 23.0, Theoretical max points: 169, Can win: No\n",
            "14: Valtteri Bottas, Current points: 10.0, Theoretical max points: 156, Can win: No\n",
            "15: Nico Hülkenberg, Current points: 9.0, Theoretical max points: 155, Can win: No\n",
            "16: Guanyu Zhou, Current points: 6.0, Theoretical max points: 152, Can win: No\n",
            "17: Yuki Tsunoda, Current points: 3.0, Theoretical max points: 149, Can win: No\n",
            "18: Kevin Magnussen, Current points: 3.0, Theoretical max points: 149, Can win: No\n",
            "19: Liam Lawson, Current points: 2.0, Theoretical max points: 148, Can win: No\n",
            "20: Logan Sargeant, Current points: 0.0, Theoretical max points: 146, Can win: No\n",
            "21: Nyck de Vries, Current points: 0.0, Theoretical max points: 146, Can win: No\n",
            "22: Daniel Ricciardo, Current points: 0.0, Theoretical max points: 146, Can win: No\n"
          ]
        }
      ],
      "source": [
        "# Get the current drivers standings\n",
        "driver_standings = get_drivers_standings()\n",
        "\n",
        "# Get the maximum amount of points\n",
        "points = calculate_max_points_for_remaining_season()\n",
        "\n",
        "# Print which drivers can still win\n",
        "calculate_who_can_win(driver_standings, points)"
      ]
    }
  ],
  "metadata": {
    "kernelspec": {
      "display_name": "Python 3",
      "language": "python",
      "name": "python3"
    },
    "language_info": {
      "codemirror_mode": {
        "name": "ipython",
        "version": 3
      },
      "file_extension": ".py",
      "mimetype": "text/x-python",
      "name": "python",
      "nbconvert_exporter": "python",
      "pygments_lexer": "ipython3",
      "version": "3.12.0"
    }
  },
  "nbformat": 4,
  "nbformat_minor": 0
}
