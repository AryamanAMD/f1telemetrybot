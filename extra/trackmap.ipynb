{
 "cells": [
  {
   "cell_type": "code",
   "execution_count": 2,
   "metadata": {},
   "outputs": [],
   "source": [
    "import fastf1 as ff1\n",
    "from fastf1 import plotting\n",
    "from fastf1 import utils\n",
    "import fastf1.legacy\n",
    "import fastf1 as ff1\n",
    "import numpy as np\n",
    "from matplotlib import pyplot as plt\n",
    "from matplotlib.collections import LineCollection\n",
    "from matplotlib import cm\n",
    "import matplotlib.font_manager as fm\n",
    "import numpy as np\n",
    "import pandas as pd\n",
    "import matplotlib as mpl\n",
    "colormap = mpl.cm.plasma\n",
    "ff1.Cache.enable_cache('cache')"
   ]
  },
  {
   "cell_type": "code",
   "execution_count": 3,
   "metadata": {},
   "outputs": [],
   "source": [
    "year= 2023\n",
    "gp = 'Singapore'\n",
    "event = 'Q'\n",
    "\n",
    "session = ff1.get_session(year, gp, event)\n",
    "session.load()"
   ]
  },
  {
   "cell_type": "code",
   "execution_count": null,
   "metadata": {},
   "outputs": [],
   "source": [
    "circuit_info = session.get_circuit_info()\n",
    "lap = session.laps.pick_fastest()\n",
    "pos = lap.get_pos_data()"
   ]
  },
  {
   "cell_type": "code",
   "execution_count": null,
   "metadata": {},
   "outputs": [],
   "source": [
    "fig, ax = plt.subplots(figsize=(10,5)k)"
   ]
  },
  {
   "cell_type": "code",
   "execution_count": null,
   "metadata": {},
   "outputs": [],
   "source": [
    "def rotate(xy, *, angle):\n",
    "    rot_mat = np.array([[np.cos(angle), np.sin(angle)],\n",
    "                        [-np.sin(angle), np.cos(angle)]])\n",
    "    return np.matmul(xy, rot_mat)"
   ]
  },
  {
   "cell_type": "code",
   "execution_count": null,
   "metadata": {},
   "outputs": [],
   "source": [
    "track = pos.loc[:, ('X', 'Y')].to_numpy()\n",
    "\n",
    "track_angle = circuit_info.rotation / 180 * np.pi\n",
    "\n",
    "offset_vector = [500, 0]  "
   ]
  },
  {
   "cell_type": "code",
   "execution_count": null,
   "metadata": {},
   "outputs": [],
   "source": [
    "rotated_track = rotate(track, angle=track_angle)\n",
    "plt.plot(rotated_track[:, 0], rotated_track[:, 1], color ='tab:orange')"
   ]
  },
  {
   "cell_type": "code",
   "execution_count": null,
   "metadata": {},
   "outputs": [],
   "source": [
    "# Iterate over all corners.\n",
    "for _, corner in circuit_info.corners.iterrows():\n",
    "    # Create a string from corner number and letter\n",
    "    txt = f\"{corner['Number']}{corner['Letter']}\"\n",
    "\n",
    "    # Convert the angle from degrees to radian.\n",
    "    offset_angle = corner['Angle'] / 180 * np.pi\n",
    "\n",
    "    # Rotate the offset vector so that it points sideways from the track.\n",
    "    offset_x, offset_y = rotate(offset_vector, angle=offset_angle)\n",
    "\n",
    "    # Add the offset to the position of the corner\n",
    "    text_x = corner['X'] + offset_x\n",
    "    text_y = corner['Y'] + offset_y\n",
    "\n",
    "    # Rotate the text position equivalently to the rest of the track map\n",
    "    text_x, text_y = rotate([text_x, text_y], angle=track_angle)\n",
    "\n",
    "    # Rotate the center of the corner equivalently to the rest of the track map\n",
    "    track_x, track_y = rotate([corner['X'], corner['Y']], angle=track_angle)\n",
    "\n",
    "    # Draw a circle next to the track.\n",
    "    plt.scatter(text_x, text_y, color=circle_color, s=140)\n",
    "\n",
    "    # Draw a line from the track to this circle.\n",
    "    plt.plot([track_x, text_x], [track_y, text_y], color=line_color)\n",
    "\n",
    "    # Finally, print the corner number inside the circle.\n",
    "    plt.text(text_x, text_y, txt,\n",
    "             va='center_baseline', ha='center', size='small', color=text_color)"
   ]
  },
  {
   "cell_type": "code",
   "execution_count": null,
   "metadata": {},
   "outputs": [],
   "source": [
    "plot_title = f\"{year} | {gp} | {session.event['Location']} \"\n",
    "\n",
    "plt.title(plot_title, color=title_color, fontsize = 16)\n",
    "plt.xticks([])\n",
    "plt.yticks([])\n",
    "plt.axis('equal')\n",
    "\n",
    "plt.show()"
   ]
  }
 ],
 "metadata": {
  "kernelspec": {
   "display_name": "Python 3",
   "language": "python",
   "name": "python3"
  },
  "language_info": {
   "codemirror_mode": {
    "name": "ipython",
    "version": 3
   },
   "file_extension": ".py",
   "mimetype": "text/x-python",
   "name": "python",
   "nbconvert_exporter": "python",
   "pygments_lexer": "ipython3",
   "version": "3.12.0"
  }
 },
 "nbformat": 4,
 "nbformat_minor": 2
}
